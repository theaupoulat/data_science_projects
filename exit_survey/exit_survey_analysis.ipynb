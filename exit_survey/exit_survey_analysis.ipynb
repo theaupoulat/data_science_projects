{
 "cells": [
  {
   "cell_type": "markdown",
   "metadata": {
    "collapsed": true
   },
   "source": [
    "# Cleaning and Analyzing Employee Exit Surveys"
   ]
  },
  {
   "cell_type": "markdown",
   "metadata": {},
   "source": [
    "In this project, we'll play the role of data analyst and pretend our stakeholders want to know the following:\n",
    "\n",
    "- Are employees who only worked for the institutes for a short period of time resigning due to **some kind of dissatisfaction?** What about employees who have been there longer?\n",
    "\n",
    "- Are younger employees resigning due to **some kind of dissatisfaction?** What about older employees?\n",
    "\n",
    "They want us to combine the results for both surveys to answer these questions. However, although both used the same survey template, one of them customized some of the answers. In the guided steps, we'll aim to do most of the data cleaning and get you started analyzing the first question.\n",
    "\n",
    "** A data dictionary wasn't provided with the dataset. In a job setting, we'd make sure to meet with a manager to confirm the definitions of the data. For this project, we'll use our general knowledge to define the columns. **"
   ]
  },
  {
   "cell_type": "code",
   "execution_count": 1,
   "metadata": {
    "collapsed": false
   },
   "outputs": [],
   "source": [
    "import numpy as np\n",
    "import pandas as pd\n",
    "from IPython.display import display\n",
    "import matplotlib.pyplot as plt\n",
    "\n",
    "plt.style.use('fivethirtyeight')\n",
    "\n",
    "dete_survey = pd.read_csv(\"dete_survey.csv\", na_values = \"Not Stated\")\n",
    "tafe_survey = pd.read_csv(\"tafe_survey.csv\")\n",
    "pd.set_option('display.max_columns', 90)\n",
    "\n"
   ]
  },
  {
   "cell_type": "code",
   "execution_count": 2,
   "metadata": {
    "collapsed": false
   },
   "outputs": [
    {
     "name": "stdout",
     "output_type": "stream",
     "text": [
      "<class 'pandas.core.frame.DataFrame'>\n",
      "RangeIndex: 822 entries, 0 to 821\n",
      "Data columns (total 56 columns):\n",
      "ID                                     822 non-null int64\n",
      "SeparationType                         822 non-null object\n",
      "Cease Date                             788 non-null object\n",
      "DETE Start Date                        749 non-null float64\n",
      "Role Start Date                        724 non-null float64\n",
      "Position                               817 non-null object\n",
      "Classification                         455 non-null object\n",
      "Region                                 717 non-null object\n",
      "Business Unit                          126 non-null object\n",
      "Employment Status                      817 non-null object\n",
      "Career move to public sector           822 non-null bool\n",
      "Career move to private sector          822 non-null bool\n",
      "Interpersonal conflicts                822 non-null bool\n",
      "Job dissatisfaction                    822 non-null bool\n",
      "Dissatisfaction with the department    822 non-null bool\n",
      "Physical work environment              822 non-null bool\n",
      "Lack of recognition                    822 non-null bool\n",
      "Lack of job security                   822 non-null bool\n",
      "Work location                          822 non-null bool\n",
      "Employment conditions                  822 non-null bool\n",
      "Maternity/family                       822 non-null bool\n",
      "Relocation                             822 non-null bool\n",
      "Study/Travel                           822 non-null bool\n",
      "Ill Health                             822 non-null bool\n",
      "Traumatic incident                     822 non-null bool\n",
      "Work life balance                      822 non-null bool\n",
      "Workload                               822 non-null bool\n",
      "None of the above                      822 non-null bool\n",
      "Professional Development               808 non-null object\n",
      "Opportunities for promotion            735 non-null object\n",
      "Staff morale                           816 non-null object\n",
      "Workplace issue                        788 non-null object\n",
      "Physical environment                   817 non-null object\n",
      "Worklife balance                       815 non-null object\n",
      "Stress and pressure support            810 non-null object\n",
      "Performance of supervisor              813 non-null object\n",
      "Peer support                           812 non-null object\n",
      "Initiative                             813 non-null object\n",
      "Skills                                 811 non-null object\n",
      "Coach                                  767 non-null object\n",
      "Career Aspirations                     746 non-null object\n",
      "Feedback                               792 non-null object\n",
      "Further PD                             768 non-null object\n",
      "Communication                          814 non-null object\n",
      "My say                                 812 non-null object\n",
      "Information                            816 non-null object\n",
      "Kept informed                          813 non-null object\n",
      "Wellness programs                      766 non-null object\n",
      "Health & Safety                        793 non-null object\n",
      "Gender                                 798 non-null object\n",
      "Age                                    811 non-null object\n",
      "Aboriginal                             16 non-null object\n",
      "Torres Strait                          3 non-null object\n",
      "South Sea                              7 non-null object\n",
      "Disability                             23 non-null object\n",
      "NESB                                   32 non-null object\n",
      "dtypes: bool(18), float64(2), int64(1), object(35)\n",
      "memory usage: 258.6+ KB\n"
     ]
    }
   ],
   "source": [
    "dete_survey.info()"
   ]
  },
  {
   "cell_type": "markdown",
   "metadata": {},
   "source": [
    "### Selecting relevant data\n",
    "\n",
    "We are going to drop the columns that do not contain relevant data on the **dissatisfaction**, **worktime period** and **age**, in order to standardize both datasets columns to merge them."
   ]
  },
  {
   "cell_type": "code",
   "execution_count": 3,
   "metadata": {
    "collapsed": false
   },
   "outputs": [
    {
     "name": "stdout",
     "output_type": "stream",
     "text": [
      "<class 'pandas.core.frame.DataFrame'>\n",
      "RangeIndex: 822 entries, 0 to 821\n",
      "Data columns (total 36 columns):\n",
      "ID                                     822 non-null int64\n",
      "SeparationType                         822 non-null object\n",
      "Cease Date                             788 non-null object\n",
      "DETE Start Date                        749 non-null float64\n",
      "Role Start Date                        724 non-null float64\n",
      "Position                               817 non-null object\n",
      "Classification                         455 non-null object\n",
      "Region                                 717 non-null object\n",
      "Business Unit                          126 non-null object\n",
      "Employment Status                      817 non-null object\n",
      "Career move to public sector           822 non-null bool\n",
      "Career move to private sector          822 non-null bool\n",
      "Interpersonal conflicts                822 non-null bool\n",
      "Job dissatisfaction                    822 non-null bool\n",
      "Dissatisfaction with the department    822 non-null bool\n",
      "Physical work environment              822 non-null bool\n",
      "Lack of recognition                    822 non-null bool\n",
      "Lack of job security                   822 non-null bool\n",
      "Work location                          822 non-null bool\n",
      "Employment conditions                  822 non-null bool\n",
      "Maternity/family                       822 non-null bool\n",
      "Relocation                             822 non-null bool\n",
      "Study/Travel                           822 non-null bool\n",
      "Ill Health                             822 non-null bool\n",
      "Traumatic incident                     822 non-null bool\n",
      "Work life balance                      822 non-null bool\n",
      "Workload                               822 non-null bool\n",
      "None of the above                      822 non-null bool\n",
      "Health & Safety                        793 non-null object\n",
      "Gender                                 798 non-null object\n",
      "Age                                    811 non-null object\n",
      "Aboriginal                             16 non-null object\n",
      "Torres Strait                          3 non-null object\n",
      "South Sea                              7 non-null object\n",
      "Disability                             23 non-null object\n",
      "NESB                                   32 non-null object\n",
      "dtypes: bool(18), float64(2), int64(1), object(15)\n",
      "memory usage: 130.1+ KB\n"
     ]
    }
   ],
   "source": [
    "# deleting unecessary columns for the dete survey data\n",
    "\n",
    "columns_to_drop = dete_survey.columns[28:48]\n",
    "dete_survey_updated = dete_survey.drop(columns = columns_to_drop, axis = 1)\n",
    "dete_survey_updated.info()"
   ]
  },
  {
   "cell_type": "code",
   "execution_count": 4,
   "metadata": {
    "collapsed": false
   },
   "outputs": [
    {
     "name": "stdout",
     "output_type": "stream",
     "text": [
      "<class 'pandas.core.frame.DataFrame'>\n",
      "RangeIndex: 702 entries, 0 to 701\n",
      "Data columns (total 23 columns):\n",
      "Record ID                                                                    702 non-null float64\n",
      "Institute                                                                    702 non-null object\n",
      "WorkArea                                                                     702 non-null object\n",
      "CESSATION YEAR                                                               695 non-null float64\n",
      "Reason for ceasing employment                                                701 non-null object\n",
      "Contributing Factors. Career Move - Public Sector                            437 non-null object\n",
      "Contributing Factors. Career Move - Private Sector                           437 non-null object\n",
      "Contributing Factors. Career Move - Self-employment                          437 non-null object\n",
      "Contributing Factors. Ill Health                                             437 non-null object\n",
      "Contributing Factors. Maternity/Family                                       437 non-null object\n",
      "Contributing Factors. Dissatisfaction                                        437 non-null object\n",
      "Contributing Factors. Job Dissatisfaction                                    437 non-null object\n",
      "Contributing Factors. Interpersonal Conflict                                 437 non-null object\n",
      "Contributing Factors. Study                                                  437 non-null object\n",
      "Contributing Factors. Travel                                                 437 non-null object\n",
      "Contributing Factors. Other                                                  437 non-null object\n",
      "Contributing Factors. NONE                                                   437 non-null object\n",
      "Gender. What is your Gender?                                                 596 non-null object\n",
      "CurrentAge. Current Age                                                      596 non-null object\n",
      "Employment Type. Employment Type                                             596 non-null object\n",
      "Classification. Classification                                               596 non-null object\n",
      "LengthofServiceOverall. Overall Length of Service at Institute (in years)    596 non-null object\n",
      "LengthofServiceCurrent. Length of Service at current workplace (in years)    596 non-null object\n",
      "dtypes: float64(2), object(21)\n",
      "memory usage: 126.2+ KB\n"
     ]
    }
   ],
   "source": [
    "# deleting unnecessary data for the tafe survey\n",
    "\n",
    "columns_to_drop = tafe_survey.columns[17:66]\n",
    "tafe_survey_updated = tafe_survey.drop(columns = columns_to_drop, axis = 1)\n",
    "tafe_survey_updated.info()\n"
   ]
  },
  {
   "cell_type": "markdown",
   "metadata": {},
   "source": [
    "### Formatting column names\n",
    "\n",
    "First, I remove the parameters that give information on the status and type of individuals."
   ]
  },
  {
   "cell_type": "code",
   "execution_count": 5,
   "metadata": {
    "collapsed": false
   },
   "outputs": [
    {
     "data": {
      "text/html": [
       "<div>\n",
       "<style scoped>\n",
       "    .dataframe tbody tr th:only-of-type {\n",
       "        vertical-align: middle;\n",
       "    }\n",
       "\n",
       "    .dataframe tbody tr th {\n",
       "        vertical-align: top;\n",
       "    }\n",
       "\n",
       "    .dataframe thead th {\n",
       "        text-align: right;\n",
       "    }\n",
       "</style>\n",
       "<table border=\"1\" class=\"dataframe\">\n",
       "  <thead>\n",
       "    <tr style=\"text-align: right;\">\n",
       "      <th></th>\n",
       "      <th>id</th>\n",
       "      <th>separationtype</th>\n",
       "      <th>cease_date</th>\n",
       "      <th>dete_start_date</th>\n",
       "      <th>role_start_date</th>\n",
       "      <th>position</th>\n",
       "      <th>classification</th>\n",
       "      <th>region</th>\n",
       "      <th>business_unit</th>\n",
       "      <th>employment_status</th>\n",
       "      <th>career_move_to_public_sector</th>\n",
       "      <th>career_move_to_private_sector</th>\n",
       "      <th>interpersonal_conflicts</th>\n",
       "      <th>job_dissatisfaction</th>\n",
       "      <th>dissatisfaction_with_the_department</th>\n",
       "      <th>physical_work_environment</th>\n",
       "      <th>lack_of_recognition</th>\n",
       "      <th>lack_of_job_security</th>\n",
       "      <th>work_location</th>\n",
       "      <th>employment_conditions</th>\n",
       "      <th>maternity/family</th>\n",
       "      <th>relocation</th>\n",
       "      <th>study/travel</th>\n",
       "      <th>ill_health</th>\n",
       "      <th>traumatic_incident</th>\n",
       "      <th>work_life_balance</th>\n",
       "      <th>workload</th>\n",
       "      <th>none_of_the_above</th>\n",
       "      <th>health_&amp;_safety</th>\n",
       "      <th>gender</th>\n",
       "      <th>age</th>\n",
       "      <th>aboriginal</th>\n",
       "      <th>torres_strait</th>\n",
       "      <th>south_sea</th>\n",
       "      <th>disability</th>\n",
       "      <th>nesb</th>\n",
       "    </tr>\n",
       "  </thead>\n",
       "  <tbody>\n",
       "    <tr>\n",
       "      <th>0</th>\n",
       "      <td>1</td>\n",
       "      <td>Ill Health Retirement</td>\n",
       "      <td>08/2012</td>\n",
       "      <td>1984.0</td>\n",
       "      <td>2004.0</td>\n",
       "      <td>Public Servant</td>\n",
       "      <td>A01-A04</td>\n",
       "      <td>Central Office</td>\n",
       "      <td>Corporate Strategy and Peformance</td>\n",
       "      <td>Permanent Full-time</td>\n",
       "      <td>True</td>\n",
       "      <td>False</td>\n",
       "      <td>False</td>\n",
       "      <td>True</td>\n",
       "      <td>False</td>\n",
       "      <td>False</td>\n",
       "      <td>True</td>\n",
       "      <td>False</td>\n",
       "      <td>False</td>\n",
       "      <td>False</td>\n",
       "      <td>False</td>\n",
       "      <td>False</td>\n",
       "      <td>False</td>\n",
       "      <td>False</td>\n",
       "      <td>False</td>\n",
       "      <td>False</td>\n",
       "      <td>False</td>\n",
       "      <td>True</td>\n",
       "      <td>N</td>\n",
       "      <td>Male</td>\n",
       "      <td>56-60</td>\n",
       "      <td>NaN</td>\n",
       "      <td>NaN</td>\n",
       "      <td>NaN</td>\n",
       "      <td>NaN</td>\n",
       "      <td>Yes</td>\n",
       "    </tr>\n",
       "    <tr>\n",
       "      <th>1</th>\n",
       "      <td>2</td>\n",
       "      <td>Voluntary Early Retirement (VER)</td>\n",
       "      <td>08/2012</td>\n",
       "      <td>NaN</td>\n",
       "      <td>NaN</td>\n",
       "      <td>Public Servant</td>\n",
       "      <td>AO5-AO7</td>\n",
       "      <td>Central Office</td>\n",
       "      <td>Corporate Strategy and Peformance</td>\n",
       "      <td>Permanent Full-time</td>\n",
       "      <td>False</td>\n",
       "      <td>False</td>\n",
       "      <td>False</td>\n",
       "      <td>False</td>\n",
       "      <td>False</td>\n",
       "      <td>False</td>\n",
       "      <td>False</td>\n",
       "      <td>False</td>\n",
       "      <td>False</td>\n",
       "      <td>False</td>\n",
       "      <td>False</td>\n",
       "      <td>False</td>\n",
       "      <td>False</td>\n",
       "      <td>False</td>\n",
       "      <td>False</td>\n",
       "      <td>False</td>\n",
       "      <td>False</td>\n",
       "      <td>False</td>\n",
       "      <td>N</td>\n",
       "      <td>Male</td>\n",
       "      <td>56-60</td>\n",
       "      <td>NaN</td>\n",
       "      <td>NaN</td>\n",
       "      <td>NaN</td>\n",
       "      <td>NaN</td>\n",
       "      <td>NaN</td>\n",
       "    </tr>\n",
       "    <tr>\n",
       "      <th>2</th>\n",
       "      <td>3</td>\n",
       "      <td>Voluntary Early Retirement (VER)</td>\n",
       "      <td>05/2012</td>\n",
       "      <td>2011.0</td>\n",
       "      <td>2011.0</td>\n",
       "      <td>Schools Officer</td>\n",
       "      <td>NaN</td>\n",
       "      <td>Central Office</td>\n",
       "      <td>Education Queensland</td>\n",
       "      <td>Permanent Full-time</td>\n",
       "      <td>False</td>\n",
       "      <td>False</td>\n",
       "      <td>False</td>\n",
       "      <td>False</td>\n",
       "      <td>False</td>\n",
       "      <td>False</td>\n",
       "      <td>False</td>\n",
       "      <td>False</td>\n",
       "      <td>False</td>\n",
       "      <td>False</td>\n",
       "      <td>False</td>\n",
       "      <td>False</td>\n",
       "      <td>False</td>\n",
       "      <td>False</td>\n",
       "      <td>False</td>\n",
       "      <td>False</td>\n",
       "      <td>False</td>\n",
       "      <td>True</td>\n",
       "      <td>N</td>\n",
       "      <td>Male</td>\n",
       "      <td>61 or older</td>\n",
       "      <td>NaN</td>\n",
       "      <td>NaN</td>\n",
       "      <td>NaN</td>\n",
       "      <td>NaN</td>\n",
       "      <td>NaN</td>\n",
       "    </tr>\n",
       "    <tr>\n",
       "      <th>3</th>\n",
       "      <td>4</td>\n",
       "      <td>Resignation-Other reasons</td>\n",
       "      <td>05/2012</td>\n",
       "      <td>2005.0</td>\n",
       "      <td>2006.0</td>\n",
       "      <td>Teacher</td>\n",
       "      <td>Primary</td>\n",
       "      <td>Central Queensland</td>\n",
       "      <td>NaN</td>\n",
       "      <td>Permanent Full-time</td>\n",
       "      <td>False</td>\n",
       "      <td>True</td>\n",
       "      <td>False</td>\n",
       "      <td>False</td>\n",
       "      <td>False</td>\n",
       "      <td>False</td>\n",
       "      <td>False</td>\n",
       "      <td>False</td>\n",
       "      <td>False</td>\n",
       "      <td>False</td>\n",
       "      <td>False</td>\n",
       "      <td>False</td>\n",
       "      <td>False</td>\n",
       "      <td>False</td>\n",
       "      <td>False</td>\n",
       "      <td>False</td>\n",
       "      <td>False</td>\n",
       "      <td>False</td>\n",
       "      <td>A</td>\n",
       "      <td>Female</td>\n",
       "      <td>36-40</td>\n",
       "      <td>NaN</td>\n",
       "      <td>NaN</td>\n",
       "      <td>NaN</td>\n",
       "      <td>NaN</td>\n",
       "      <td>NaN</td>\n",
       "    </tr>\n",
       "    <tr>\n",
       "      <th>4</th>\n",
       "      <td>5</td>\n",
       "      <td>Age Retirement</td>\n",
       "      <td>05/2012</td>\n",
       "      <td>1970.0</td>\n",
       "      <td>1989.0</td>\n",
       "      <td>Head of Curriculum/Head of Special Education</td>\n",
       "      <td>NaN</td>\n",
       "      <td>South East</td>\n",
       "      <td>NaN</td>\n",
       "      <td>Permanent Full-time</td>\n",
       "      <td>False</td>\n",
       "      <td>False</td>\n",
       "      <td>False</td>\n",
       "      <td>False</td>\n",
       "      <td>False</td>\n",
       "      <td>False</td>\n",
       "      <td>False</td>\n",
       "      <td>False</td>\n",
       "      <td>False</td>\n",
       "      <td>False</td>\n",
       "      <td>False</td>\n",
       "      <td>False</td>\n",
       "      <td>False</td>\n",
       "      <td>False</td>\n",
       "      <td>False</td>\n",
       "      <td>True</td>\n",
       "      <td>False</td>\n",
       "      <td>False</td>\n",
       "      <td>M</td>\n",
       "      <td>Female</td>\n",
       "      <td>61 or older</td>\n",
       "      <td>NaN</td>\n",
       "      <td>NaN</td>\n",
       "      <td>NaN</td>\n",
       "      <td>NaN</td>\n",
       "      <td>NaN</td>\n",
       "    </tr>\n",
       "  </tbody>\n",
       "</table>\n",
       "</div>"
      ],
      "text/plain": [
       "   id                    separationtype cease_date  dete_start_date  \\\n",
       "0   1             Ill Health Retirement    08/2012           1984.0   \n",
       "1   2  Voluntary Early Retirement (VER)    08/2012              NaN   \n",
       "2   3  Voluntary Early Retirement (VER)    05/2012           2011.0   \n",
       "3   4         Resignation-Other reasons    05/2012           2005.0   \n",
       "4   5                    Age Retirement    05/2012           1970.0   \n",
       "\n",
       "   role_start_date                                      position  \\\n",
       "0           2004.0                                Public Servant   \n",
       "1              NaN                                Public Servant   \n",
       "2           2011.0                               Schools Officer   \n",
       "3           2006.0                                       Teacher   \n",
       "4           1989.0  Head of Curriculum/Head of Special Education   \n",
       "\n",
       "  classification              region                      business_unit  \\\n",
       "0        A01-A04      Central Office  Corporate Strategy and Peformance   \n",
       "1        AO5-AO7      Central Office  Corporate Strategy and Peformance   \n",
       "2            NaN      Central Office               Education Queensland   \n",
       "3        Primary  Central Queensland                                NaN   \n",
       "4            NaN          South East                                NaN   \n",
       "\n",
       "     employment_status  career_move_to_public_sector  \\\n",
       "0  Permanent Full-time                          True   \n",
       "1  Permanent Full-time                         False   \n",
       "2  Permanent Full-time                         False   \n",
       "3  Permanent Full-time                         False   \n",
       "4  Permanent Full-time                         False   \n",
       "\n",
       "   career_move_to_private_sector  interpersonal_conflicts  \\\n",
       "0                          False                    False   \n",
       "1                          False                    False   \n",
       "2                          False                    False   \n",
       "3                           True                    False   \n",
       "4                          False                    False   \n",
       "\n",
       "   job_dissatisfaction  dissatisfaction_with_the_department  \\\n",
       "0                 True                                False   \n",
       "1                False                                False   \n",
       "2                False                                False   \n",
       "3                False                                False   \n",
       "4                False                                False   \n",
       "\n",
       "   physical_work_environment  lack_of_recognition  lack_of_job_security  \\\n",
       "0                      False                 True                 False   \n",
       "1                      False                False                 False   \n",
       "2                      False                False                 False   \n",
       "3                      False                False                 False   \n",
       "4                      False                False                 False   \n",
       "\n",
       "   work_location  employment_conditions  maternity/family  relocation  \\\n",
       "0          False                  False             False       False   \n",
       "1          False                  False             False       False   \n",
       "2          False                  False             False       False   \n",
       "3          False                  False             False       False   \n",
       "4          False                  False             False       False   \n",
       "\n",
       "   study/travel  ill_health  traumatic_incident  work_life_balance  workload  \\\n",
       "0         False       False               False              False     False   \n",
       "1         False       False               False              False     False   \n",
       "2         False       False               False              False     False   \n",
       "3         False       False               False              False     False   \n",
       "4         False       False               False               True     False   \n",
       "\n",
       "   none_of_the_above health_&_safety  gender          age aboriginal  \\\n",
       "0               True               N    Male        56-60        NaN   \n",
       "1              False               N    Male        56-60        NaN   \n",
       "2               True               N    Male  61 or older        NaN   \n",
       "3              False               A  Female        36-40        NaN   \n",
       "4              False               M  Female  61 or older        NaN   \n",
       "\n",
       "  torres_strait south_sea disability nesb  \n",
       "0           NaN       NaN        NaN  Yes  \n",
       "1           NaN       NaN        NaN  NaN  \n",
       "2           NaN       NaN        NaN  NaN  \n",
       "3           NaN       NaN        NaN  NaN  \n",
       "4           NaN       NaN        NaN  NaN  "
      ]
     },
     "execution_count": 5,
     "metadata": {},
     "output_type": "execute_result"
    }
   ],
   "source": [
    "dete_survey_updated.columns = (dete_survey_updated.columns\n",
    "                       .str.lower()\n",
    "                       .str.strip()\n",
    "                       .str.replace(' ', '_'))\n",
    "dete_survey_updated.head()"
   ]
  },
  {
   "cell_type": "code",
   "execution_count": 6,
   "metadata": {
    "collapsed": false
   },
   "outputs": [
    {
     "data": {
      "text/html": [
       "<div>\n",
       "<style scoped>\n",
       "    .dataframe tbody tr th:only-of-type {\n",
       "        vertical-align: middle;\n",
       "    }\n",
       "\n",
       "    .dataframe tbody tr th {\n",
       "        vertical-align: top;\n",
       "    }\n",
       "\n",
       "    .dataframe thead th {\n",
       "        text-align: right;\n",
       "    }\n",
       "</style>\n",
       "<table border=\"1\" class=\"dataframe\">\n",
       "  <thead>\n",
       "    <tr style=\"text-align: right;\">\n",
       "      <th></th>\n",
       "      <th>id</th>\n",
       "      <th>Institute</th>\n",
       "      <th>WorkArea</th>\n",
       "      <th>cease_date</th>\n",
       "      <th>separationtype</th>\n",
       "      <th>Contributing Factors. Career Move - Public Sector</th>\n",
       "      <th>Contributing Factors. Career Move - Private Sector</th>\n",
       "      <th>Contributing Factors. Career Move - Self-employment</th>\n",
       "      <th>Contributing Factors. Ill Health</th>\n",
       "      <th>Contributing Factors. Maternity/Family</th>\n",
       "      <th>Contributing Factors. Dissatisfaction</th>\n",
       "      <th>Contributing Factors. Job Dissatisfaction</th>\n",
       "      <th>Contributing Factors. Interpersonal Conflict</th>\n",
       "      <th>Contributing Factors. Study</th>\n",
       "      <th>Contributing Factors. Travel</th>\n",
       "      <th>Contributing Factors. Other</th>\n",
       "      <th>Contributing Factors. NONE</th>\n",
       "      <th>gender</th>\n",
       "      <th>age</th>\n",
       "      <th>Employment Type. Employment Type</th>\n",
       "      <th>position</th>\n",
       "      <th>institute_service</th>\n",
       "      <th>LengthofServiceCurrent. Length of Service at current workplace (in years)</th>\n",
       "    </tr>\n",
       "  </thead>\n",
       "  <tbody>\n",
       "    <tr>\n",
       "      <th>0</th>\n",
       "      <td>6.341330e+17</td>\n",
       "      <td>Southern Queensland Institute of TAFE</td>\n",
       "      <td>Non-Delivery (corporate)</td>\n",
       "      <td>2010.0</td>\n",
       "      <td>Contract Expired</td>\n",
       "      <td>NaN</td>\n",
       "      <td>NaN</td>\n",
       "      <td>NaN</td>\n",
       "      <td>NaN</td>\n",
       "      <td>NaN</td>\n",
       "      <td>NaN</td>\n",
       "      <td>NaN</td>\n",
       "      <td>NaN</td>\n",
       "      <td>NaN</td>\n",
       "      <td>NaN</td>\n",
       "      <td>NaN</td>\n",
       "      <td>NaN</td>\n",
       "      <td>Female</td>\n",
       "      <td>26  30</td>\n",
       "      <td>Temporary Full-time</td>\n",
       "      <td>Administration (AO)</td>\n",
       "      <td>1-2</td>\n",
       "      <td>1-2</td>\n",
       "    </tr>\n",
       "    <tr>\n",
       "      <th>1</th>\n",
       "      <td>6.341337e+17</td>\n",
       "      <td>Mount Isa Institute of TAFE</td>\n",
       "      <td>Non-Delivery (corporate)</td>\n",
       "      <td>2010.0</td>\n",
       "      <td>Retirement</td>\n",
       "      <td>-</td>\n",
       "      <td>-</td>\n",
       "      <td>-</td>\n",
       "      <td>-</td>\n",
       "      <td>-</td>\n",
       "      <td>-</td>\n",
       "      <td>-</td>\n",
       "      <td>-</td>\n",
       "      <td>-</td>\n",
       "      <td>Travel</td>\n",
       "      <td>-</td>\n",
       "      <td>-</td>\n",
       "      <td>NaN</td>\n",
       "      <td>NaN</td>\n",
       "      <td>NaN</td>\n",
       "      <td>NaN</td>\n",
       "      <td>NaN</td>\n",
       "      <td>NaN</td>\n",
       "    </tr>\n",
       "    <tr>\n",
       "      <th>2</th>\n",
       "      <td>6.341388e+17</td>\n",
       "      <td>Mount Isa Institute of TAFE</td>\n",
       "      <td>Delivery (teaching)</td>\n",
       "      <td>2010.0</td>\n",
       "      <td>Retirement</td>\n",
       "      <td>-</td>\n",
       "      <td>-</td>\n",
       "      <td>-</td>\n",
       "      <td>-</td>\n",
       "      <td>-</td>\n",
       "      <td>-</td>\n",
       "      <td>-</td>\n",
       "      <td>-</td>\n",
       "      <td>-</td>\n",
       "      <td>-</td>\n",
       "      <td>-</td>\n",
       "      <td>NONE</td>\n",
       "      <td>NaN</td>\n",
       "      <td>NaN</td>\n",
       "      <td>NaN</td>\n",
       "      <td>NaN</td>\n",
       "      <td>NaN</td>\n",
       "      <td>NaN</td>\n",
       "    </tr>\n",
       "    <tr>\n",
       "      <th>3</th>\n",
       "      <td>6.341399e+17</td>\n",
       "      <td>Mount Isa Institute of TAFE</td>\n",
       "      <td>Non-Delivery (corporate)</td>\n",
       "      <td>2010.0</td>\n",
       "      <td>Resignation</td>\n",
       "      <td>-</td>\n",
       "      <td>-</td>\n",
       "      <td>-</td>\n",
       "      <td>-</td>\n",
       "      <td>-</td>\n",
       "      <td>-</td>\n",
       "      <td>-</td>\n",
       "      <td>-</td>\n",
       "      <td>-</td>\n",
       "      <td>Travel</td>\n",
       "      <td>-</td>\n",
       "      <td>-</td>\n",
       "      <td>NaN</td>\n",
       "      <td>NaN</td>\n",
       "      <td>NaN</td>\n",
       "      <td>NaN</td>\n",
       "      <td>NaN</td>\n",
       "      <td>NaN</td>\n",
       "    </tr>\n",
       "    <tr>\n",
       "      <th>4</th>\n",
       "      <td>6.341466e+17</td>\n",
       "      <td>Southern Queensland Institute of TAFE</td>\n",
       "      <td>Delivery (teaching)</td>\n",
       "      <td>2010.0</td>\n",
       "      <td>Resignation</td>\n",
       "      <td>-</td>\n",
       "      <td>Career Move - Private Sector</td>\n",
       "      <td>-</td>\n",
       "      <td>-</td>\n",
       "      <td>-</td>\n",
       "      <td>-</td>\n",
       "      <td>-</td>\n",
       "      <td>-</td>\n",
       "      <td>-</td>\n",
       "      <td>-</td>\n",
       "      <td>-</td>\n",
       "      <td>-</td>\n",
       "      <td>Male</td>\n",
       "      <td>41  45</td>\n",
       "      <td>Permanent Full-time</td>\n",
       "      <td>Teacher (including LVT)</td>\n",
       "      <td>3-4</td>\n",
       "      <td>3-4</td>\n",
       "    </tr>\n",
       "  </tbody>\n",
       "</table>\n",
       "</div>"
      ],
      "text/plain": [
       "             id                              Institute  \\\n",
       "0  6.341330e+17  Southern Queensland Institute of TAFE   \n",
       "1  6.341337e+17            Mount Isa Institute of TAFE   \n",
       "2  6.341388e+17            Mount Isa Institute of TAFE   \n",
       "3  6.341399e+17            Mount Isa Institute of TAFE   \n",
       "4  6.341466e+17  Southern Queensland Institute of TAFE   \n",
       "\n",
       "                   WorkArea  cease_date    separationtype  \\\n",
       "0  Non-Delivery (corporate)      2010.0  Contract Expired   \n",
       "1  Non-Delivery (corporate)      2010.0        Retirement   \n",
       "2       Delivery (teaching)      2010.0        Retirement   \n",
       "3  Non-Delivery (corporate)      2010.0       Resignation   \n",
       "4       Delivery (teaching)      2010.0       Resignation   \n",
       "\n",
       "  Contributing Factors. Career Move - Public Sector   \\\n",
       "0                                                NaN   \n",
       "1                                                  -   \n",
       "2                                                  -   \n",
       "3                                                  -   \n",
       "4                                                  -   \n",
       "\n",
       "  Contributing Factors. Career Move - Private Sector   \\\n",
       "0                                                NaN    \n",
       "1                                                  -    \n",
       "2                                                  -    \n",
       "3                                                  -    \n",
       "4                       Career Move - Private Sector    \n",
       "\n",
       "  Contributing Factors. Career Move - Self-employment  \\\n",
       "0                                                NaN    \n",
       "1                                                  -    \n",
       "2                                                  -    \n",
       "3                                                  -    \n",
       "4                                                  -    \n",
       "\n",
       "  Contributing Factors. Ill Health Contributing Factors. Maternity/Family  \\\n",
       "0                              NaN                                    NaN   \n",
       "1                                -                                      -   \n",
       "2                                -                                      -   \n",
       "3                                -                                      -   \n",
       "4                                -                                      -   \n",
       "\n",
       "  Contributing Factors. Dissatisfaction  \\\n",
       "0                                   NaN   \n",
       "1                                     -   \n",
       "2                                     -   \n",
       "3                                     -   \n",
       "4                                     -   \n",
       "\n",
       "  Contributing Factors. Job Dissatisfaction  \\\n",
       "0                                       NaN   \n",
       "1                                         -   \n",
       "2                                         -   \n",
       "3                                         -   \n",
       "4                                         -   \n",
       "\n",
       "  Contributing Factors. Interpersonal Conflict Contributing Factors. Study  \\\n",
       "0                                          NaN                         NaN   \n",
       "1                                            -                           -   \n",
       "2                                            -                           -   \n",
       "3                                            -                           -   \n",
       "4                                            -                           -   \n",
       "\n",
       "  Contributing Factors. Travel Contributing Factors. Other  \\\n",
       "0                          NaN                         NaN   \n",
       "1                       Travel                           -   \n",
       "2                            -                           -   \n",
       "3                       Travel                           -   \n",
       "4                            -                           -   \n",
       "\n",
       "  Contributing Factors. NONE  gender     age Employment Type. Employment Type  \\\n",
       "0                        NaN  Female  26  30              Temporary Full-time   \n",
       "1                          -     NaN     NaN                              NaN   \n",
       "2                       NONE     NaN     NaN                              NaN   \n",
       "3                          -     NaN     NaN                              NaN   \n",
       "4                          -    Male  41  45              Permanent Full-time   \n",
       "\n",
       "                  position institute_service  \\\n",
       "0      Administration (AO)               1-2   \n",
       "1                      NaN               NaN   \n",
       "2                      NaN               NaN   \n",
       "3                      NaN               NaN   \n",
       "4  Teacher (including LVT)               3-4   \n",
       "\n",
       "  LengthofServiceCurrent. Length of Service at current workplace (in years)  \n",
       "0                                                1-2                         \n",
       "1                                                NaN                         \n",
       "2                                                NaN                         \n",
       "3                                                NaN                         \n",
       "4                                                3-4                         "
      ]
     },
     "execution_count": 6,
     "metadata": {},
     "output_type": "execute_result"
    }
   ],
   "source": [
    "new_col_names = {\n",
    "    'Record ID': 'id',\n",
    "    'CESSATION YEAR': 'cease_date',\n",
    "    'Reason for ceasing employment': 'separationtype',\n",
    "    'Gender. What is your Gender?': 'gender',\n",
    "    'CurrentAge. Current Age': 'age',\n",
    "    'Employment Type. Employment Type.': 'employment_status',\n",
    "    'Classification. Classification': 'position',\n",
    "    'LengthofServiceOverall. Overall Length of Service at Institute (in years)':'institute_service'\n",
    "}\n",
    "\n",
    "tafe_survey_updated = tafe_survey_updated.rename(columns = new_col_names)\n",
    "tafe_survey_updated.head()"
   ]
  },
  {
   "cell_type": "markdown",
   "metadata": {},
   "source": [
    "### Sorting exit explanations"
   ]
  },
  {
   "cell_type": "code",
   "execution_count": 7,
   "metadata": {
    "collapsed": false
   },
   "outputs": [
    {
     "data": {
      "text/plain": [
       "Age Retirement                          285\n",
       "Resignation-Other reasons               150\n",
       "Resignation-Other employer               91\n",
       "Resignation-Move overseas/interstate     70\n",
       "Voluntary Early Retirement (VER)         67\n",
       "Ill Health Retirement                    61\n",
       "Other                                    49\n",
       "Contract Expired                         34\n",
       "Termination                              15\n",
       "Name: separationtype, dtype: int64"
      ]
     },
     "execution_count": 7,
     "metadata": {},
     "output_type": "execute_result"
    }
   ],
   "source": [
    "dete_survey_updated.separationtype.value_counts()"
   ]
  },
  {
   "cell_type": "code",
   "execution_count": 8,
   "metadata": {
    "collapsed": false
   },
   "outputs": [
    {
     "data": {
      "text/plain": [
       "Resignation                 340\n",
       "Contract Expired            127\n",
       "Retrenchment/ Redundancy    104\n",
       "Retirement                   82\n",
       "Transfer                     25\n",
       "Termination                  23\n",
       "Name: separationtype, dtype: int64"
      ]
     },
     "execution_count": 8,
     "metadata": {},
     "output_type": "execute_result"
    }
   ],
   "source": [
    "tafe_survey_updated.separationtype.value_counts()"
   ]
  },
  {
   "cell_type": "code",
   "execution_count": 9,
   "metadata": {
    "collapsed": false
   },
   "outputs": [],
   "source": [
    "tafe_resignations = tafe_survey_updated[tafe_survey_updated['separationtype'] == 'Resignation'].copy()"
   ]
  },
  {
   "cell_type": "code",
   "execution_count": 10,
   "metadata": {
    "collapsed": false
   },
   "outputs": [],
   "source": [
    "dete_resignations = dete_survey_updated[dete_survey_updated['separationtype'].str.contains('^Resignation') == True].copy()"
   ]
  },
  {
   "cell_type": "markdown",
   "metadata": {},
   "source": [
    "I only kept the Resignations as the other conditions are not interesting in our study (Retirement, Transfer or Termination are not of the employees initiative). "
   ]
  },
  {
   "cell_type": "markdown",
   "metadata": {},
   "source": [
    "### Check the Data bruv\n",
    "\n",
    "#### Checking up cessation years"
   ]
  },
  {
   "cell_type": "code",
   "execution_count": 11,
   "metadata": {
    "collapsed": false
   },
   "outputs": [
    {
     "data": {
      "text/plain": [
       "2012       126\n",
       "2013        74\n",
       "01/2014     22\n",
       "12/2013     17\n",
       "06/2013     14\n",
       "09/2013     11\n",
       "11/2013      9\n",
       "07/2013      9\n",
       "10/2013      6\n",
       "08/2013      4\n",
       "05/2012      2\n",
       "05/2013      2\n",
       "07/2012      1\n",
       "2010         1\n",
       "07/2006      1\n",
       "09/2010      1\n",
       "Name: cease_date, dtype: int64"
      ]
     },
     "execution_count": 11,
     "metadata": {},
     "output_type": "execute_result"
    }
   ],
   "source": [
    "dete_resignations.cease_date.value_counts()"
   ]
  },
  {
   "cell_type": "code",
   "execution_count": 12,
   "metadata": {
    "collapsed": false
   },
   "outputs": [],
   "source": [
    "dete_resignations.cease_date =(dete_resignations.cease_date\n",
    "                               .str.split('/')\n",
    "                               .str[-1])\n",
    "dete_resignations.cease_date = dete_resignations.cease_date.astype(float)"
   ]
  },
  {
   "cell_type": "code",
   "execution_count": 13,
   "metadata": {
    "collapsed": false
   },
   "outputs": [
    {
     "data": {
      "text/plain": [
       "2013.0    146\n",
       "2012.0    129\n",
       "2014.0     22\n",
       "2010.0      2\n",
       "2006.0      1\n",
       "Name: cease_date, dtype: int64"
      ]
     },
     "execution_count": 13,
     "metadata": {},
     "output_type": "execute_result"
    }
   ],
   "source": [
    "dete_resignations.cease_date.value_counts()"
   ]
  },
  {
   "cell_type": "code",
   "execution_count": 14,
   "metadata": {
    "collapsed": false
   },
   "outputs": [
    {
     "data": {
      "text/plain": [
       "<matplotlib.axes._subplots.AxesSubplot at 0x7ff1af5b6d30>"
      ]
     },
     "execution_count": 14,
     "metadata": {},
     "output_type": "execute_result"
    },
    {
     "data": {
      "image/png": "[encoded data removed]",
      "text/plain": [
       "<matplotlib.figure.Figure at 0x7ff1af607470>"
      ]
     },
     "metadata": {},
     "output_type": "display_data"
    }
   ],
   "source": [
    "%matplotlib inline\n",
    "\n",
    "boxplot = dete_resignations.boxplot(column = ['dete_start_date'])\n",
    "boxplot"
   ]
  },
  {
   "cell_type": "markdown",
   "metadata": {},
   "source": [
    "There seems to be some mistakes in the data. Outliers may say that some of the data registered as resigntion may actually be a retirement, given the old age of that people."
   ]
  },
  {
   "cell_type": "code",
   "execution_count": 15,
   "metadata": {
    "collapsed": false
   },
   "outputs": [
    {
     "data": {
      "text/plain": [
       "2009.0      2\n",
       "2010.0     68\n",
       "2011.0    116\n",
       "2012.0     94\n",
       "2013.0     55\n",
       "Name: cease_date, dtype: int64"
      ]
     },
     "execution_count": 15,
     "metadata": {},
     "output_type": "execute_result"
    }
   ],
   "source": [
    "tafe_resignations.cease_date.value_counts().sort_index()"
   ]
  },
  {
   "cell_type": "markdown",
   "metadata": {},
   "source": [
    "### Creating a institute_service variable for the dete_survey\n",
    "\n",
    "By creating such column, we can seamlessly integrate the dete and tafe survey results + filter time in the workplace and it's relation to resignation"
   ]
  },
  {
   "cell_type": "code",
   "execution_count": 16,
   "metadata": {
    "collapsed": false
   },
   "outputs": [
    {
     "data": {
      "text/plain": [
       "3      7.0\n",
       "5     18.0\n",
       "8      3.0\n",
       "9     15.0\n",
       "11     3.0\n",
       "Name: institute_service, dtype: float64"
      ]
     },
     "execution_count": 16,
     "metadata": {},
     "output_type": "execute_result"
    }
   ],
   "source": [
    "dete_resignations['institute_service'] = dete_resignations['cease_date'] - dete_resignations['dete_start_date']\n",
    "dete_resignations['institute_service'].head()"
   ]
  },
  {
   "cell_type": "markdown",
   "metadata": {},
   "source": [
    "### Getting dissatisfaction\n",
    "\n",
    "The dete survey contains 9 columns for different types of dissatisfactions and the tafe survey only 2.\n",
    "\n",
    "**tafe_survey_updated:**\n",
    "\n",
    "- Contributing Factors. Dissatisfaction\n",
    "- Contributing Factors. Job Dissatisfaction\n",
    "\n",
    "\n",
    "**dafe_survey_updated:**\n",
    "\n",
    "- job_dissatisfaction\n",
    "- dissatisfaction_with_the_department\n",
    "- physical_work_environment\n",
    "- lack_of_recognition\n",
    "- lack_of_job_security\n",
    "- work_location\n",
    "- employment_conditions\n",
    "- work_life_balance\n",
    "- workload\n",
    "\n",
    "\n",
    "Hence, We need to create a single column in each dataset that will identify if the worker has resigned because of a dissatisfaction or not. "
   ]
  },
  {
   "cell_type": "markdown",
   "metadata": {},
   "source": [
    "#### Tafe survey"
   ]
  },
  {
   "cell_type": "code",
   "execution_count": 17,
   "metadata": {
    "collapsed": false
   },
   "outputs": [
    {
     "data": {
      "text/plain": [
       "-                                         277\n",
       "Contributing Factors. Dissatisfaction      55\n",
       "Name: Contributing Factors. Dissatisfaction, dtype: int64"
      ]
     },
     "execution_count": 17,
     "metadata": {},
     "output_type": "execute_result"
    }
   ],
   "source": [
    "#Check unique values\n",
    "tafe_resignations['Contributing Factors. Dissatisfaction'].value_counts()"
   ]
  },
  {
   "cell_type": "code",
   "execution_count": 18,
   "metadata": {
    "collapsed": false
   },
   "outputs": [
    {
     "data": {
      "text/plain": [
       "-                      270\n",
       "Job Dissatisfaction     62\n",
       "Name: Contributing Factors. Job Dissatisfaction, dtype: int64"
      ]
     },
     "execution_count": 18,
     "metadata": {},
     "output_type": "execute_result"
    }
   ],
   "source": [
    "#Check unique values\n",
    "tafe_resignations['Contributing Factors. Job Dissatisfaction'].value_counts()"
   ]
  },
  {
   "cell_type": "code",
   "execution_count": 19,
   "metadata": {
    "collapsed": true
   },
   "outputs": [],
   "source": [
    "# function to attribute True, False or NaN depending on element\n",
    "def update_vals(x):\n",
    "    if x == '-':\n",
    "        return False\n",
    "    elif pd.isnull(x):\n",
    "        return np.nan\n",
    "    else:\n",
    "        return True"
   ]
  },
  {
   "cell_type": "code",
   "execution_count": 20,
   "metadata": {
    "collapsed": false
   },
   "outputs": [],
   "source": [
    "# create \"dissatisfied\" column for tafe_survey, merging results from \"Contributing Factors\" colmumns\n",
    "tafe_resignations['dissatisfied'] = (tafe_resignations[['Contributing Factors. Dissatisfaction','Contributing Factors. Job Dissatisfaction' ]]\n",
    "                                     .applymap(update_vals)\n",
    "                                     .any(axis = 1, skipna = False)\n",
    "                                    )\n",
    "\n",
    "# create a copy to avoid SettingWithCopy Warning\n",
    "tafe_resignations_up = tafe_resignations.copy()\n"
   ]
  },
  {
   "cell_type": "code",
   "execution_count": 21,
   "metadata": {
    "collapsed": false
   },
   "outputs": [
    {
     "data": {
      "text/plain": [
       "False    241\n",
       "True      91\n",
       "NaN        8\n",
       "Name: dissatisfied, dtype: int64"
      ]
     },
     "execution_count": 21,
     "metadata": {},
     "output_type": "execute_result"
    }
   ],
   "source": [
    "tafe_resignations_up.dissatisfied.value_counts(dropna = False)"
   ]
  },
  {
   "cell_type": "markdown",
   "metadata": {},
   "source": [
    "#### Dete survey"
   ]
  },
  {
   "cell_type": "code",
   "execution_count": 22,
   "metadata": {
    "collapsed": false
   },
   "outputs": [
    {
     "data": {
      "text/plain": [
       "False    270\n",
       "True      41\n",
       "Name: job_dissatisfaction, dtype: int64"
      ]
     },
     "execution_count": 22,
     "metadata": {},
     "output_type": "execute_result"
    }
   ],
   "source": [
    "dete_resignations.job_dissatisfaction.value_counts()"
   ]
  },
  {
   "cell_type": "code",
   "execution_count": 23,
   "metadata": {
    "collapsed": false
   },
   "outputs": [],
   "source": [
    "# create \"dissatisfied\" column for dete_survey, merging results from selected colmumns\n",
    "dete_resignations['dissatisfied']= (dete_resignations[['job_dissatisfaction', \n",
    "                                                       'dissatisfaction_with_the_department', \n",
    "                                                       'physical_work_environment', \n",
    "                                                       'lack_of_recognition', \n",
    "                                                       'lack_of_job_security', \n",
    "                                                       'work_location', \n",
    "                                                       'employment_conditions', \n",
    "                                                       'work_life_balance', \n",
    "                                                       'workload']].any(1, skipna= False))\n",
    "\n",
    "# create a copy to avoid SettingWithCopy Warning\n",
    "dete_resignations_up = dete_resignations.copy()"
   ]
  },
  {
   "cell_type": "code",
   "execution_count": 36,
   "metadata": {
    "collapsed": false
   },
   "outputs": [
    {
     "data": {
      "text/plain": [
       "False    162\n",
       "True     149\n",
       "Name: dissatisfied, dtype: int64"
      ]
     },
     "execution_count": 36,
     "metadata": {},
     "output_type": "execute_result"
    }
   ],
   "source": [
    "dete_resignations_up.dissatisfied.value_counts(dropna = False)"
   ]
  },
  {
   "cell_type": "markdown",
   "metadata": {},
   "source": [
    "#### Combining the  data "
   ]
  },
  {
   "cell_type": "code",
   "execution_count": 25,
   "metadata": {
    "collapsed": true
   },
   "outputs": [],
   "source": [
    "dete_resignations_up[\"institute\"] = 'DETE'\n",
    "tafe_resignations_up[\"institute\"] = 'TAFE'"
   ]
  },
  {
   "cell_type": "code",
   "execution_count": 26,
   "metadata": {
    "collapsed": false
   },
   "outputs": [
    {
     "name": "stdout",
     "output_type": "stream",
     "text": [
      "<class 'pandas.core.frame.DataFrame'>\n",
      "Int64Index: 651 entries, 3 to 701\n",
      "Data columns (total 55 columns):\n",
      "Contributing Factors. Career Move - Private Sector                           332 non-null object\n",
      "Contributing Factors. Career Move - Public Sector                            332 non-null object\n",
      "Contributing Factors. Career Move - Self-employment                          332 non-null object\n",
      "Contributing Factors. Dissatisfaction                                        332 non-null object\n",
      "Contributing Factors. Ill Health                                             332 non-null object\n",
      "Contributing Factors. Interpersonal Conflict                                 332 non-null object\n",
      "Contributing Factors. Job Dissatisfaction                                    332 non-null object\n",
      "Contributing Factors. Maternity/Family                                       332 non-null object\n",
      "Contributing Factors. NONE                                                   332 non-null object\n",
      "Contributing Factors. Other                                                  332 non-null object\n",
      "Contributing Factors. Study                                                  332 non-null object\n",
      "Contributing Factors. Travel                                                 332 non-null object\n",
      "Employment Type. Employment Type                                             290 non-null object\n",
      "Institute                                                                    340 non-null object\n",
      "LengthofServiceCurrent. Length of Service at current workplace (in years)    290 non-null object\n",
      "WorkArea                                                                     340 non-null object\n",
      "aboriginal                                                                   7 non-null object\n",
      "age                                                                          596 non-null object\n",
      "business_unit                                                                32 non-null object\n",
      "career_move_to_private_sector                                                311 non-null object\n",
      "career_move_to_public_sector                                                 311 non-null object\n",
      "cease_date                                                                   635 non-null float64\n",
      "classification                                                               161 non-null object\n",
      "dete_start_date                                                              283 non-null float64\n",
      "disability                                                                   8 non-null object\n",
      "dissatisfaction_with_the_department                                          311 non-null object\n",
      "dissatisfied                                                                 643 non-null object\n",
      "employment_conditions                                                        311 non-null object\n",
      "employment_status                                                            307 non-null object\n",
      "gender                                                                       592 non-null object\n",
      "health_&_safety                                                              295 non-null object\n",
      "id                                                                           651 non-null float64\n",
      "ill_health                                                                   311 non-null object\n",
      "institute                                                                    651 non-null object\n",
      "institute_service                                                            563 non-null object\n",
      "interpersonal_conflicts                                                      311 non-null object\n",
      "job_dissatisfaction                                                          311 non-null object\n",
      "lack_of_job_security                                                         311 non-null object\n",
      "lack_of_recognition                                                          311 non-null object\n",
      "maternity/family                                                             311 non-null object\n",
      "nesb                                                                         9 non-null object\n",
      "none_of_the_above                                                            311 non-null object\n",
      "physical_work_environment                                                    311 non-null object\n",
      "position                                                                     598 non-null object\n",
      "region                                                                       265 non-null object\n",
      "relocation                                                                   311 non-null object\n",
      "role_start_date                                                              271 non-null float64\n",
      "separationtype                                                               651 non-null object\n",
      "south_sea                                                                    3 non-null object\n",
      "study/travel                                                                 311 non-null object\n",
      "torres_strait                                                                0 non-null object\n",
      "traumatic_incident                                                           311 non-null object\n",
      "work_life_balance                                                            311 non-null object\n",
      "work_location                                                                311 non-null object\n",
      "workload                                                                     311 non-null object\n",
      "dtypes: float64(4), object(51)\n",
      "memory usage: 284.8+ KB\n"
     ]
    }
   ],
   "source": [
    "frames = [dete_resignations_up, tafe_resignations_up]\n",
    "combined = pd.concat(frames)\n",
    "combined.info()"
   ]
  },
  {
   "cell_type": "code",
   "execution_count": 27,
   "metadata": {
    "collapsed": false
   },
   "outputs": [
    {
     "name": "stdout",
     "output_type": "stream",
     "text": [
      "<class 'pandas.core.frame.DataFrame'>\n",
      "Int64Index: 651 entries, 3 to 701\n",
      "Data columns (total 9 columns):\n",
      "age                  596 non-null object\n",
      "cease_date           635 non-null float64\n",
      "dissatisfied         643 non-null object\n",
      "gender               592 non-null object\n",
      "id                   651 non-null float64\n",
      "institute            651 non-null object\n",
      "institute_service    563 non-null object\n",
      "position             598 non-null object\n",
      "separationtype       651 non-null object\n",
      "dtypes: float64(2), object(7)\n",
      "memory usage: 50.9+ KB\n"
     ]
    }
   ],
   "source": [
    "# drop columns  with less than 500 non-null values (having only data from one survey)\n",
    "combined_updated = combined.dropna(thresh = 500, axis = 1).copy()\n",
    "combined_updated.info()"
   ]
  },
  {
   "cell_type": "markdown",
   "metadata": {},
   "source": [
    "### Standardizing Career Stages\n"
   ]
  },
  {
   "cell_type": "code",
   "execution_count": 28,
   "metadata": {
    "collapsed": false
   },
   "outputs": [
    {
     "data": {
      "text/plain": [
       "Less than 1 year      73\n",
       "1-2                   64\n",
       "3-4                   63\n",
       "5-6                   33\n",
       "11-20                 26\n",
       "5.0                   23\n",
       "1.0                   22\n",
       "7-10                  21\n",
       "3.0                   20\n",
       "0.0                   20\n",
       "6.0                   17\n",
       "4.0                   16\n",
       "9.0                   14\n",
       "2.0                   14\n",
       "7.0                   13\n",
       "More than 20 years    10\n",
       "13.0                   8\n",
       "8.0                    8\n",
       "20.0                   7\n",
       "15.0                   7\n",
       "14.0                   6\n",
       "17.0                   6\n",
       "12.0                   6\n",
       "10.0                   6\n",
       "22.0                   6\n",
       "18.0                   5\n",
       "16.0                   5\n",
       "24.0                   4\n",
       "23.0                   4\n",
       "11.0                   4\n",
       "39.0                   3\n",
       "19.0                   3\n",
       "21.0                   3\n",
       "32.0                   3\n",
       "36.0                   2\n",
       "25.0                   2\n",
       "26.0                   2\n",
       "28.0                   2\n",
       "30.0                   2\n",
       "42.0                   1\n",
       "35.0                   1\n",
       "49.0                   1\n",
       "34.0                   1\n",
       "38.0                   1\n",
       "33.0                   1\n",
       "29.0                   1\n",
       "27.0                   1\n",
       "41.0                   1\n",
       "31.0                   1\n",
       "Name: institute_service, dtype: int64"
      ]
     },
     "execution_count": 28,
     "metadata": {},
     "output_type": "execute_result"
    }
   ],
   "source": [
    "# exploring combined values for the length of service\n",
    "combined_updated.institute_service.value_counts()"
   ]
  },
  {
   "cell_type": "code",
   "execution_count": 29,
   "metadata": {
    "collapsed": false
   },
   "outputs": [],
   "source": [
    "# create a standardized column for the years of service\n",
    "combined_updated['institute_service_up'] = (combined_updated.institute_service\n",
    "                                      .astype(str)\n",
    "                                      .str.split('-').str[0]\n",
    "                                      .str.replace('Less than 1 year', '0')\n",
    "                                      .str.replace('More than 20 years', '20')\n",
    "                                      .astype(float))"
   ]
  },
  {
   "cell_type": "markdown",
   "metadata": {},
   "source": [
    "As expressed in this article (https://www.businesswire.com/news/home/20171108006002/en/Age-Number-Engage-Employees-Career-Stage), we will look at carreer stages in the company.\n",
    "\n",
    "We divide them in: \n",
    "\n",
    "- New: Less than 3 years at a company\n",
    "- Experienced: 3-6 years at a company\n",
    "- Established: 7-10 years at a company\n",
    "- Veteran: 11 or more years at a company"
   ]
  },
  {
   "cell_type": "code",
   "execution_count": 30,
   "metadata": {
    "collapsed": false
   },
   "outputs": [],
   "source": [
    "# function to sort in categories of carreer stage\n",
    "def career_stage(x):\n",
    "    if x <= 3:\n",
    "        return 'New'\n",
    "    elif x <= 6:\n",
    "        return 'Experienced'\n",
    "    elif x<= 10:\n",
    "        return 'Established'\n",
    "    else:\n",
    "        return 'Veteran'\n",
    "    \n",
    "# apply function\n",
    "combined_updated[\"service_cat\"] = combined_updated[\"institute_service_up\"].apply(career_stage)"
   ]
  },
  {
   "cell_type": "code",
   "execution_count": 31,
   "metadata": {
    "collapsed": false
   },
   "outputs": [
    {
     "data": {
      "text/plain": [
       "New            276\n",
       "Veteran        224\n",
       "Experienced     89\n",
       "Established     62\n",
       "Name: service_cat, dtype: int64"
      ]
     },
     "execution_count": 31,
     "metadata": {},
     "output_type": "execute_result"
    }
   ],
   "source": [
    "combined_updated.service_cat.value_counts()"
   ]
  },
  {
   "cell_type": "markdown",
   "metadata": {},
   "source": [
    "### Analyzing dissatisfaction based on career stage at the institute"
   ]
  },
  {
   "cell_type": "code",
   "execution_count": 32,
   "metadata": {
    "collapsed": false
   },
   "outputs": [
    {
     "data": {
      "text/plain": [
       "False    403\n",
       "True     240\n",
       "NaN        8\n",
       "Name: dissatisfied, dtype: int64"
      ]
     },
     "execution_count": 32,
     "metadata": {},
     "output_type": "execute_result"
    }
   ],
   "source": [
    "combined_updated.dissatisfied.value_counts(dropna = False)"
   ]
  },
  {
   "cell_type": "code",
   "execution_count": 33,
   "metadata": {
    "collapsed": false
   },
   "outputs": [
    {
     "data": {
      "text/plain": [
       "False    411\n",
       "True     240\n",
       "Name: dissatisfied, dtype: int64"
      ]
     },
     "execution_count": 33,
     "metadata": {},
     "output_type": "execute_result"
    }
   ],
   "source": [
    "# fill the remaining NaN values\n",
    "combined_updated[\"dissatisfied\"] = combined_updated[\"dissatisfied\"].fillna(False)\n",
    "combined_updated[\"dissatisfied\"].value_counts()"
   ]
  },
  {
   "cell_type": "code",
   "execution_count": 34,
   "metadata": {
    "collapsed": false
   },
   "outputs": [
    {
     "data": {
      "text/html": [
       "<div>\n",
       "<style scoped>\n",
       "    .dataframe tbody tr th:only-of-type {\n",
       "        vertical-align: middle;\n",
       "    }\n",
       "\n",
       "    .dataframe tbody tr th {\n",
       "        vertical-align: top;\n",
       "    }\n",
       "\n",
       "    .dataframe thead th {\n",
       "        text-align: right;\n",
       "    }\n",
       "</style>\n",
       "<table border=\"1\" class=\"dataframe\">\n",
       "  <thead>\n",
       "    <tr style=\"text-align: right;\">\n",
       "      <th></th>\n",
       "      <th>dissatisfied</th>\n",
       "    </tr>\n",
       "    <tr>\n",
       "      <th>service_cat</th>\n",
       "      <th></th>\n",
       "    </tr>\n",
       "  </thead>\n",
       "  <tbody>\n",
       "    <tr>\n",
       "      <th>Established</th>\n",
       "      <td>0.516129</td>\n",
       "    </tr>\n",
       "    <tr>\n",
       "      <th>Experienced</th>\n",
       "      <td>0.404494</td>\n",
       "    </tr>\n",
       "    <tr>\n",
       "      <th>New</th>\n",
       "      <td>0.289855</td>\n",
       "    </tr>\n",
       "    <tr>\n",
       "      <th>Veteran</th>\n",
       "      <td>0.410714</td>\n",
       "    </tr>\n",
       "  </tbody>\n",
       "</table>\n",
       "</div>"
      ],
      "text/plain": [
       "             dissatisfied\n",
       "service_cat              \n",
       "Established      0.516129\n",
       "Experienced      0.404494\n",
       "New              0.289855\n",
       "Veteran          0.410714"
      ]
     },
     "execution_count": 34,
     "metadata": {},
     "output_type": "execute_result"
    }
   ],
   "source": [
    "# calculate proportion of employees who resigned based on career stage\n",
    "pivot = combined_updated.pivot_table(index = 'service_cat', values = 'dissatisfied', aggfunc = np.mean)\n",
    "pivot"
   ]
  },
  {
   "cell_type": "code",
   "execution_count": 40,
   "metadata": {
    "collapsed": false
   },
   "outputs": [
    {
     "data": {
      "text/plain": [
       "<matplotlib.axes._subplots.AxesSubplot at 0x7ff1ad3062e8>"
      ]
     },
     "execution_count": 40,
     "metadata": {},
     "output_type": "execute_result"
    },
    {
     "data": {
      "image/png": "[encoded data removed]",
      "text/plain": [
       "<matplotlib.figure.Figure at 0x7ff1ad2e5780>"
      ]
     },
     "metadata": {},
     "output_type": "display_data"
    }
   ],
   "source": [
    "# plotting results\n",
    "pivot.plot(kind = 'bar', rot = 30)"
   ]
  },
  {
   "cell_type": "markdown",
   "metadata": {},
   "source": [
    "Given the data we plotted, we can see that established employees are more likely to quit their jobs due to dissatisfaction than people with less than 7 years ('Established' bottom threshhold). Nevertheless, it would be interesting to have additionnal data on the cause of resignation."
   ]
  },
  {
   "cell_type": "markdown",
   "metadata": {},
   "source": [
    "### Analyzing dissatisfaction based on age"
   ]
  },
  {
   "cell_type": "code",
   "execution_count": 45,
   "metadata": {
    "collapsed": false
   },
   "outputs": [
    {
     "data": {
      "text/plain": [
       "20 or younger    10\n",
       "21  25           33\n",
       "21-25            29\n",
       "26  30           32\n",
       "26-30            35\n",
       "31  35           32\n",
       "31-35            29\n",
       "36  40           32\n",
       "36-40            41\n",
       "41  45           45\n",
       "41-45            48\n",
       "46  50           39\n",
       "46-50            42\n",
       "51-55            71\n",
       "56 or older      29\n",
       "56-60            26\n",
       "61 or older      23\n",
       "Name: age, dtype: int64"
      ]
     },
     "execution_count": 45,
     "metadata": {},
     "output_type": "execute_result"
    }
   ],
   "source": [
    "# check age unique values\n",
    "combined_updated.age.value_counts().sort_index()"
   ]
  },
  {
   "cell_type": "code",
   "execution_count": 65,
   "metadata": {
    "collapsed": false
   },
   "outputs": [],
   "source": [
    "# standardize age bins for analysis\n",
    "combined_updated['age_up'] = (combined_updated['age']\n",
    "                              .astype(str)\n",
    "                              .str.replace('  ','-')\n",
    "                              .str.replace('56 or older', '56-60'))"
   ]
  },
  {
   "cell_type": "code",
   "execution_count": 66,
   "metadata": {
    "collapsed": false
   },
   "outputs": [
    {
     "data": {
      "text/plain": [
       "20 or younger    10\n",
       "21-25            62\n",
       "26-30            67\n",
       "31-35            61\n",
       "36-40            73\n",
       "41-45            93\n",
       "46-50            81\n",
       "51-55            71\n",
       "56-60            55\n",
       "61 or older      23\n",
       "nan              55\n",
       "Name: age_up, dtype: int64"
      ]
     },
     "execution_count": 66,
     "metadata": {},
     "output_type": "execute_result"
    }
   ],
   "source": [
    "# check standardization success\n",
    "combined_updated['age_up'].value_counts().sort_index()"
   ]
  },
  {
   "cell_type": "code",
   "execution_count": 67,
   "metadata": {
    "collapsed": false
   },
   "outputs": [
    {
     "data": {
      "text/html": [
       "<div>\n",
       "<style scoped>\n",
       "    .dataframe tbody tr th:only-of-type {\n",
       "        vertical-align: middle;\n",
       "    }\n",
       "\n",
       "    .dataframe tbody tr th {\n",
       "        vertical-align: top;\n",
       "    }\n",
       "\n",
       "    .dataframe thead th {\n",
       "        text-align: right;\n",
       "    }\n",
       "</style>\n",
       "<table border=\"1\" class=\"dataframe\">\n",
       "  <thead>\n",
       "    <tr style=\"text-align: right;\">\n",
       "      <th></th>\n",
       "      <th>dissatisfied</th>\n",
       "    </tr>\n",
       "    <tr>\n",
       "      <th>age_up</th>\n",
       "      <th></th>\n",
       "    </tr>\n",
       "  </thead>\n",
       "  <tbody>\n",
       "    <tr>\n",
       "      <th>20 or younger</th>\n",
       "      <td>0.200000</td>\n",
       "    </tr>\n",
       "    <tr>\n",
       "      <th>21-25</th>\n",
       "      <td>0.306452</td>\n",
       "    </tr>\n",
       "    <tr>\n",
       "      <th>26-30</th>\n",
       "      <td>0.417910</td>\n",
       "    </tr>\n",
       "    <tr>\n",
       "      <th>31-35</th>\n",
       "      <td>0.377049</td>\n",
       "    </tr>\n",
       "    <tr>\n",
       "      <th>36-40</th>\n",
       "      <td>0.342466</td>\n",
       "    </tr>\n",
       "    <tr>\n",
       "      <th>41-45</th>\n",
       "      <td>0.376344</td>\n",
       "    </tr>\n",
       "    <tr>\n",
       "      <th>46-50</th>\n",
       "      <td>0.382716</td>\n",
       "    </tr>\n",
       "    <tr>\n",
       "      <th>51-55</th>\n",
       "      <td>0.422535</td>\n",
       "    </tr>\n",
       "    <tr>\n",
       "      <th>56-60</th>\n",
       "      <td>0.381818</td>\n",
       "    </tr>\n",
       "    <tr>\n",
       "      <th>61 or older</th>\n",
       "      <td>0.521739</td>\n",
       "    </tr>\n",
       "    <tr>\n",
       "      <th>nan</th>\n",
       "      <td>0.254545</td>\n",
       "    </tr>\n",
       "  </tbody>\n",
       "</table>\n",
       "</div>"
      ],
      "text/plain": [
       "               dissatisfied\n",
       "age_up                     \n",
       "20 or younger      0.200000\n",
       "21-25              0.306452\n",
       "26-30              0.417910\n",
       "31-35              0.377049\n",
       "36-40              0.342466\n",
       "41-45              0.376344\n",
       "46-50              0.382716\n",
       "51-55              0.422535\n",
       "56-60              0.381818\n",
       "61 or older        0.521739\n",
       "nan                0.254545"
      ]
     },
     "execution_count": 67,
     "metadata": {},
     "output_type": "execute_result"
    }
   ],
   "source": [
    "# calculate proportion of employees who resigned based age group\n",
    "pivot_age = combined_updated.pivot_table(index = 'age_up', values = 'dissatisfied')\n",
    "pivot_age"
   ]
  },
  {
   "cell_type": "code",
   "execution_count": 68,
   "metadata": {
    "collapsed": false
   },
   "outputs": [
    {
     "data": {
      "text/plain": [
       "<matplotlib.axes._subplots.AxesSubplot at 0x7ff1acb96a20>"
      ]
     },
     "execution_count": 68,
     "metadata": {},
     "output_type": "execute_result"
    },
    {
     "data": {
      "image/png": "[encoded data removed]",
      "text/plain": [
       "<matplotlib.figure.Figure at 0x7ff1acb1c0f0>"
      ]
     },
     "metadata": {},
     "output_type": "display_data"
    }
   ],
   "source": [
    "pivot_age.plot(kind = 'bar')"
   ]
  },
  {
   "cell_type": "code",
   "execution_count": null,
   "metadata": {
    "collapsed": true
   },
   "outputs": [],
   "source": []
  }
 ],
 "metadata": {
  "kernelspec": {
   "display_name": "Python 3",
   "language": "python",
   "name": "python3"
  },
  "language_info": {
   "codemirror_mode": {
    "name": "ipython",
    "version": 3
   },
   "file_extension": ".py",
   "mimetype": "text/x-python",
   "name": "python",
   "nbconvert_exporter": "python",
   "pygments_lexer": "ipython3",
   "version": "3.4.3"
  }
 },
 "nbformat": 4,
 "nbformat_minor": 2
}
